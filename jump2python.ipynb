{
 "cells": [
  {
   "cell_type": "code",
   "execution_count": 2,
   "id": "2e6136f0",
   "metadata": {},
   "outputs": [],
   "source": [
    "a = \"Hello jump2python\""
   ]
  },
  {
   "cell_type": "code",
   "execution_count": 4,
   "id": "2a491371",
   "metadata": {},
   "outputs": [
    {
     "data": {
      "text/plain": [
       "17"
      ]
     },
     "execution_count": 4,
     "metadata": {},
     "output_type": "execute_result"
    }
   ],
   "source": [
    "len(a)"
   ]
  },
  {
   "cell_type": "code",
   "execution_count": 8,
   "id": "7d60a430",
   "metadata": {},
   "outputs": [
    {
     "data": {
      "text/plain": [
       "'Hello'"
      ]
     },
     "execution_count": 8,
     "metadata": {},
     "output_type": "execute_result"
    }
   ],
   "source": [
    "a[0:5]"
   ]
  },
  {
   "cell_type": "code",
   "execution_count": 9,
   "id": "f3744289",
   "metadata": {},
   "outputs": [],
   "source": [
    "a = \"20230102jump2python\""
   ]
  },
  {
   "cell_type": "code",
   "execution_count": 16,
   "id": "2f23e997",
   "metadata": {},
   "outputs": [
    {
     "data": {
      "text/plain": [
       "'jump2python20230102'"
      ]
     },
     "execution_count": 16,
     "metadata": {},
     "output_type": "execute_result"
    }
   ],
   "source": [
    "data = a[0:8]\n",
    "data\n",
    "name = a[8:]\n",
    "name+data"
   ]
  },
  {
   "cell_type": "code",
   "execution_count": 2,
   "id": "733cd5a9",
   "metadata": {},
   "outputs": [
    {
     "name": "stdout",
     "output_type": "stream",
     "text": [
      "I eat 3 apples\n"
     ]
    }
   ],
   "source": [
    "print(\"I eat %d apples\" % 3)"
   ]
  },
  {
   "cell_type": "code",
   "execution_count": 4,
   "id": "1ea016a0",
   "metadata": {},
   "outputs": [
    {
     "name": "stdout",
     "output_type": "stream",
     "text": [
      "alpppe poo dldl\n"
     ]
    }
   ],
   "source": [
    "print(\"alpppe %s dldl\" % \"poo\") "
   ]
  },
  {
   "cell_type": "code",
   "execution_count": 6,
   "id": "a4674181",
   "metadata": {},
   "outputs": [
    {
     "name": "stdout",
     "output_type": "stream",
     "text": [
      "I ate 3 apple and play football\n"
     ]
    }
   ],
   "source": [
    "print(\"I ate %d apple and %s football\" %(3, \"play\"))"
   ]
  },
  {
   "cell_type": "code",
   "execution_count": 7,
   "id": "21008106",
   "metadata": {},
   "outputs": [
    {
     "ename": "ValueError",
     "evalue": "incomplete format",
     "output_type": "error",
     "traceback": [
      "\u001b[1;31m---------------------------------------------------------------------------\u001b[0m",
      "\u001b[1;31mValueError\u001b[0m                                Traceback (most recent call last)",
      "Input \u001b[1;32mIn [7]\u001b[0m, in \u001b[0;36m<cell line: 1>\u001b[1;34m()\u001b[0m\n\u001b[1;32m----> 1\u001b[0m \u001b[38;5;28mprint\u001b[39m(\u001b[38;5;124;43m\"\u001b[39;49m\u001b[38;5;124;43mError is \u001b[39;49m\u001b[38;5;132;43;01m%d\u001b[39;49;00m\u001b[38;5;124;43m%\u001b[39;49m\u001b[38;5;124;43m.\u001b[39;49m\u001b[38;5;124;43m\"\u001b[39;49m\u001b[43m \u001b[49m\u001b[38;5;241;43m%\u001b[39;49m\u001b[38;5;241;43m98\u001b[39;49m)\n",
      "\u001b[1;31mValueError\u001b[0m: incomplete format"
     ]
    }
   ],
   "source": [
    "print(\"Error is %d%.\" %98)"
   ]
  },
  {
   "cell_type": "code",
   "execution_count": 8,
   "id": "fca3fc7d",
   "metadata": {},
   "outputs": [
    {
     "name": "stdout",
     "output_type": "stream",
     "text": [
      "Error is 98%.\n"
     ]
    }
   ],
   "source": [
    "print(\"Error is %d%%.\" %98)"
   ]
  },
  {
   "cell_type": "code",
   "execution_count": 11,
   "id": "ad83c5e5",
   "metadata": {},
   "outputs": [
    {
     "name": "stdout",
     "output_type": "stream",
     "text": [
      "        hi\n"
     ]
    }
   ],
   "source": [
    "print(\"%10s\" % 'hi')"
   ]
  },
  {
   "cell_type": "code",
   "execution_count": 14,
   "id": "a5dad8e7",
   "metadata": {},
   "outputs": [
    {
     "name": "stdout",
     "output_type": "stream",
     "text": [
      "        hi I am jane\n"
     ]
    }
   ],
   "source": [
    "print(\"%10s I am jane\" % 'hi')"
   ]
  },
  {
   "cell_type": "code",
   "execution_count": 17,
   "id": "9e637e3b",
   "metadata": {},
   "outputs": [
    {
     "name": "stdout",
     "output_type": "stream",
     "text": [
      "hi         i am\n"
     ]
    }
   ],
   "source": [
    "print(\"%-10s\" %\"hi\", \"i am\")"
   ]
  },
  {
   "cell_type": "code",
   "execution_count": 18,
   "id": "8e3f3819",
   "metadata": {},
   "outputs": [
    {
     "name": "stdout",
     "output_type": "stream",
     "text": [
      "3.1452\n"
     ]
    }
   ],
   "source": [
    "print(\"%0.4f\" % 3.145192)"
   ]
  },
  {
   "cell_type": "code",
   "execution_count": 19,
   "id": "7fe94bc8",
   "metadata": {},
   "outputs": [
    {
     "name": "stdout",
     "output_type": "stream",
     "text": [
      "I eat 3 apples\n"
     ]
    }
   ],
   "source": [
    "print(\"I eat {0} apples\".format(3))"
   ]
  },
  {
   "cell_type": "code",
   "execution_count": 20,
   "id": "bddbe7dc",
   "metadata": {},
   "outputs": [
    {
     "name": "stdout",
     "output_type": "stream",
     "text": [
      "I ate 3 apples, so I was sick for 5 day\n"
     ]
    }
   ],
   "source": [
    "print(\"I ate {0} apples, so I was sick for {1} day\".format(3,5))"
   ]
  },
  {
   "cell_type": "code",
   "execution_count": 1,
   "id": "3c941be6",
   "metadata": {},
   "outputs": [
    {
     "name": "stdout",
     "output_type": "stream",
     "text": [
      "hi        \n"
     ]
    }
   ],
   "source": [
    "#왼쪽 정렬\n",
    "print(\"{0:<10}\".format(\"hi\"))"
   ]
  },
  {
   "cell_type": "code",
   "execution_count": 2,
   "id": "95ab9b6f",
   "metadata": {},
   "outputs": [
    {
     "name": "stdout",
     "output_type": "stream",
     "text": [
      "        hi\n"
     ]
    }
   ],
   "source": [
    "#오른쪽 정렬\n",
    "print(\"{0:>10}\".format(\"hi\"))"
   ]
  },
  {
   "cell_type": "code",
   "execution_count": 3,
   "id": "666d7cf1",
   "metadata": {},
   "outputs": [
    {
     "name": "stdout",
     "output_type": "stream",
     "text": [
      "    hi    \n"
     ]
    }
   ],
   "source": [
    "#가운데 정렬\n",
    "print(\"{0:^10}\".format(\"hi\"))"
   ]
  },
  {
   "cell_type": "code",
   "execution_count": 4,
   "id": "18cddce7",
   "metadata": {},
   "outputs": [
    {
     "name": "stdout",
     "output_type": "stream",
     "text": [
      "저의 이름은 정철희, 나이는 24입니다\n"
     ]
    }
   ],
   "source": [
    "#f 를 통한 포메팅\n",
    "name = \"정철희\"\n",
    "age = 24\n",
    "print(f\"저의 이름은 {name}, 나이는 {age}입니다\")"
   ]
  },
  {
   "cell_type": "code",
   "execution_count": 5,
   "id": "9b5d68b5",
   "metadata": {},
   "outputs": [
    {
     "data": {
      "text/plain": [
       "4"
      ]
     },
     "execution_count": 5,
     "metadata": {},
     "output_type": "execute_result"
    }
   ],
   "source": [
    "#문자열 세기 \n",
    "a = \"hapeeeel\"\n",
    "a.count(\"e\")"
   ]
  },
  {
   "cell_type": "code",
   "execution_count": 6,
   "id": "ad8db8de",
   "metadata": {},
   "outputs": [
    {
     "data": {
      "text/plain": [
       "3"
      ]
     },
     "execution_count": 6,
     "metadata": {},
     "output_type": "execute_result"
    }
   ],
   "source": [
    "#위치 알려주기\n",
    "a = \"python is the best choice\"\n",
    "a.find(\"h\")"
   ]
  },
  {
   "cell_type": "code",
   "execution_count": 7,
   "id": "45e845c2",
   "metadata": {},
   "outputs": [
    {
     "data": {
      "text/plain": [
       "'h,a,p,p,y'"
      ]
     },
     "execution_count": 7,
     "metadata": {},
     "output_type": "execute_result"
    }
   ],
   "source": [
    "#문자열 삽입\n",
    "\",\".join('happy')"
   ]
  },
  {
   "cell_type": "code",
   "execution_count": 8,
   "id": "351e2954",
   "metadata": {},
   "outputs": [],
   "source": [
    "a = [1,2,3,['a','b','c']]"
   ]
  },
  {
   "cell_type": "code",
   "execution_count": 9,
   "id": "6b22a07c",
   "metadata": {},
   "outputs": [
    {
     "data": {
      "text/plain": [
       "'c'"
      ]
     },
     "execution_count": 9,
     "metadata": {},
     "output_type": "execute_result"
    }
   ],
   "source": [
    "a[3][2]"
   ]
  },
  {
   "cell_type": "code",
   "execution_count": 10,
   "id": "27152d1e",
   "metadata": {},
   "outputs": [
    {
     "data": {
      "text/plain": [
       "4"
      ]
     },
     "execution_count": 10,
     "metadata": {},
     "output_type": "execute_result"
    }
   ],
   "source": [
    "a = [1,2,3,4]\n",
    "len(a)"
   ]
  },
  {
   "cell_type": "code",
   "execution_count": 14,
   "id": "d60167cd",
   "metadata": {},
   "outputs": [
    {
     "data": {
      "text/plain": [
       "[4, 3, 2, 1]"
      ]
     },
     "execution_count": 14,
     "metadata": {},
     "output_type": "execute_result"
    }
   ],
   "source": [
    "a = [1,2,3,4]\n",
    "a.reverse()\n",
    "a"
   ]
  },
  {
   "cell_type": "code",
   "execution_count": 17,
   "id": "40c7ad92",
   "metadata": {},
   "outputs": [
    {
     "data": {
      "text/plain": [
       "[9, 9, 9, 4, 3, 2, 1]"
      ]
     },
     "execution_count": 17,
     "metadata": {},
     "output_type": "execute_result"
    }
   ],
   "source": [
    "a.insert(0,9)\n",
    "a"
   ]
  },
  {
   "cell_type": "code",
   "execution_count": 20,
   "id": "5a9d8842",
   "metadata": {},
   "outputs": [
    {
     "data": {
      "text/plain": [
       "[4, 3, 2, 1]"
      ]
     },
     "execution_count": 20,
     "metadata": {},
     "output_type": "execute_result"
    }
   ],
   "source": [
    "a.remove(9)\n",
    "a"
   ]
  },
  {
   "cell_type": "code",
   "execution_count": 22,
   "id": "dded75c1",
   "metadata": {},
   "outputs": [
    {
     "data": {
      "text/plain": [
       "[1, 2]"
      ]
     },
     "execution_count": 22,
     "metadata": {},
     "output_type": "execute_result"
    }
   ],
   "source": [
    "a = [1,2,3]\n",
    "a.pop()\n",
    "a"
   ]
  },
  {
   "cell_type": "code",
   "execution_count": 23,
   "id": "256e4d31",
   "metadata": {},
   "outputs": [
    {
     "data": {
      "text/plain": [
       "5"
      ]
     },
     "execution_count": 23,
     "metadata": {},
     "output_type": "execute_result"
    }
   ],
   "source": [
    "a = [1,2,3,1,3,2,4,5,6,1,1,1]\n",
    "a.count(1)"
   ]
  },
  {
   "cell_type": "code",
   "execution_count": 31,
   "id": "bf7e90e5",
   "metadata": {},
   "outputs": [],
   "source": [
    "a = [1,2,3]\n",
    "b = a[:]\n",
    "a\n",
    "b\n",
    "b = a"
   ]
  },
  {
   "cell_type": "code",
   "execution_count": 32,
   "id": "9b28611b",
   "metadata": {},
   "outputs": [
    {
     "data": {
      "text/plain": [
       "True"
      ]
     },
     "execution_count": 32,
     "metadata": {},
     "output_type": "execute_result"
    }
   ],
   "source": [
    "a is b"
   ]
  },
  {
   "cell_type": "code",
   "execution_count": 34,
   "id": "208b7cfe",
   "metadata": {},
   "outputs": [
    {
     "data": {
      "text/plain": [
       "[1, 2, 3]"
      ]
     },
     "execution_count": 34,
     "metadata": {},
     "output_type": "execute_result"
    }
   ],
   "source": [
    "from copy import copy\n",
    "b = copy(a)\n",
    "b"
   ]
  },
  {
   "cell_type": "code",
   "execution_count": 40,
   "id": "3bea156e",
   "metadata": {},
   "outputs": [
    {
     "data": {
      "text/plain": [
       "70.0"
      ]
     },
     "execution_count": 40,
     "metadata": {},
     "output_type": "execute_result"
    }
   ],
   "source": [
    "#2장 연습문제\n",
    "socre = [80,75,55]\n",
    "(socre[0] + socre[1] + socre[2]) / 3"
   ]
  },
  {
   "cell_type": "code",
   "execution_count": 41,
   "id": "e5a2a5f7",
   "metadata": {},
   "outputs": [
    {
     "data": {
      "text/plain": [
       "1"
      ]
     },
     "execution_count": 41,
     "metadata": {},
     "output_type": "execute_result"
    }
   ],
   "source": [
    "13 % 2"
   ]
  },
  {
   "cell_type": "code",
   "execution_count": 44,
   "id": "b4465781",
   "metadata": {},
   "outputs": [
    {
     "data": {
      "text/plain": [
       "('88', '11', '20', '-1068234')"
      ]
     },
     "execution_count": 44,
     "metadata": {},
     "output_type": "execute_result"
    }
   ],
   "source": [
    "ju = \"881120-1068234\"\n",
    "Y = ju[0:2]\n",
    "M = ju[2:4]\n",
    "D = ju[4:6]\n",
    "A = ju[6:]\n",
    "Y,M,D,A"
   ]
  },
  {
   "cell_type": "code",
   "execution_count": 49,
   "id": "701da53a",
   "metadata": {},
   "outputs": [
    {
     "ename": "IndentationError",
     "evalue": "unexpected indent (797536045.py, line 5)",
     "output_type": "error",
     "traceback": [
      "\u001b[1;36m  Input \u001b[1;32mIn [49]\u001b[1;36m\u001b[0m\n\u001b[1;33m    print(\"가라\")\u001b[0m\n\u001b[1;37m    ^\u001b[0m\n\u001b[1;31mIndentationError\u001b[0m\u001b[1;31m:\u001b[0m unexpected indent\n"
     ]
    }
   ],
   "source": [
    "money = True\n",
    "if money:\n",
    "    print(\"택시를\")\n",
    "print(\"타고\")\n",
    "    print(\"가라\")\n",
    "    "
   ]
  },
  {
   "cell_type": "code",
   "execution_count": 50,
   "id": "71930c5d",
   "metadata": {},
   "outputs": [
    {
     "ename": "IndentationError",
     "evalue": "unexpected indent (2201919441.py, line 5)",
     "output_type": "error",
     "traceback": [
      "\u001b[1;36m  Input \u001b[1;32mIn [50]\u001b[1;36m\u001b[0m\n\u001b[1;33m    print(\"가라\")\u001b[0m\n\u001b[1;37m    ^\u001b[0m\n\u001b[1;31mIndentationError\u001b[0m\u001b[1;31m:\u001b[0m unexpected indent\n"
     ]
    }
   ],
   "source": [
    "money = True\n",
    "if money:\n",
    "    print(\"택시를\")\n",
    "    print(\"타고\")\n",
    "     print(\"가라\")\n",
    "    "
   ]
  },
  {
   "cell_type": "code",
   "execution_count": 51,
   "id": "5ab7179f",
   "metadata": {},
   "outputs": [
    {
     "name": "stdout",
     "output_type": "stream",
     "text": [
      "택시를\n",
      "타고\n",
      "가라\n"
     ]
    }
   ],
   "source": [
    "money = True\n",
    "if money:\n",
    "    print(\"택시를\")\n",
    "    print(\"타고\")\n",
    "    print(\"가라\")\n",
    "\n",
    "    "
   ]
  },
  {
   "cell_type": "code",
   "execution_count": 54,
   "id": "40fc8de1",
   "metadata": {},
   "outputs": [],
   "source": [
    "pocket = ['paper','money','cellphone']\n",
    "if 'money' in pocket:\n",
    "    pass\n",
    "else:\n",
    "    print(\"카드를 꺼내라\")"
   ]
  },
  {
   "cell_type": "code",
   "execution_count": 58,
   "id": "05ae4033",
   "metadata": {},
   "outputs": [
    {
     "name": "stdout",
     "output_type": "stream",
     "text": [
      "택시를 타고 가라\n"
     ]
    }
   ],
   "source": [
    "pocket = ['paper', 'handphone']\n",
    "card = True\n",
    "if 'money' in pocket:\n",
    "    print(\"택시를 타고\")\n",
    "else:\n",
    "    if card:\n",
    "        print(\"택시를 타고 가라\")\n",
    "    else:\n",
    "        print(\"걸어가라\")"
   ]
  },
  {
   "cell_type": "code",
   "execution_count": 59,
   "id": "13ecdf38",
   "metadata": {},
   "outputs": [
    {
     "name": "stdout",
     "output_type": "stream",
     "text": [
      "택시를 타고 가라\n"
     ]
    }
   ],
   "source": [
    "pocket = ['paper', 'handphone']\n",
    "card = True\n",
    "if 'money' in pocket:\n",
    "    print(\"택시를 타고\")\n",
    "elif card:\n",
    "    print(\"택시를 타고 가라\")\n",
    "else:\n",
    "    print(\"걸어가라\")"
   ]
  },
  {
   "cell_type": "code",
   "execution_count": 60,
   "id": "f2fcc320",
   "metadata": {},
   "outputs": [
    {
     "name": "stdout",
     "output_type": "stream",
     "text": [
      "나무를 1 번 찍었습니다\n",
      "나무를 2 번 찍었습니다\n",
      "나무를 3 번 찍었습니다\n",
      "나무를 4 번 찍었습니다\n",
      "나무를 5 번 찍었습니다\n",
      "나무를 6 번 찍었습니다\n",
      "나무를 7 번 찍었습니다\n",
      "나무를 8 번 찍었습니다\n",
      "나무를 9 번 찍었습니다\n",
      "나무를 10 번 찍었습니다\n",
      "나무가 넘어갔어요!\n"
     ]
    }
   ],
   "source": [
    "treeHit= 0\n",
    "while treeHit < 10:\n",
    "    treeHit = treeHit + 1\n",
    "    print(\"나무를 %d 번 찍었습니다\" % treeHit)\n",
    "    if treeHit == 10:\n",
    "        print(\"나무가 넘어갔어요!\")"
   ]
  },
  {
   "cell_type": "code",
   "execution_count": 61,
   "id": "5a401c46",
   "metadata": {},
   "outputs": [],
   "source": [
    "prompt = \"\"\"\n",
    "1. Add\n",
    "2. Del\n",
    "3. List\n",
    "4. Quit\n",
    "\n",
    "Enter number: \"\"\""
   ]
  },
  {
   "cell_type": "code",
   "execution_count": 62,
   "id": "88788dd6",
   "metadata": {},
   "outputs": [
    {
     "name": "stdout",
     "output_type": "stream",
     "text": [
      "\n",
      "1. Add\n",
      "2. Del\n",
      "3. List\n",
      "4. Quit\n",
      "\n",
      "Enter number: \n",
      "1\n",
      "\n",
      "1. Add\n",
      "2. Del\n",
      "3. List\n",
      "4. Quit\n",
      "\n",
      "Enter number: \n",
      "2\n",
      "\n",
      "1. Add\n",
      "2. Del\n",
      "3. List\n",
      "4. Quit\n",
      "\n",
      "Enter number: \n",
      "3\n",
      "\n",
      "1. Add\n",
      "2. Del\n",
      "3. List\n",
      "4. Quit\n",
      "\n",
      "Enter number: \n",
      "4\n"
     ]
    }
   ],
   "source": [
    "number = 0\n",
    "while number != 4:\n",
    "    print(prompt)\n",
    "    number = int(input())"
   ]
  },
  {
   "cell_type": "code",
   "execution_count": 63,
   "id": "f2634631",
   "metadata": {},
   "outputs": [
    {
     "name": "stdout",
     "output_type": "stream",
     "text": [
      "돈을 받았으니 제 사랑을 드릴게요\n",
      "남은 커피의 양은 9개 입니다\n",
      "돈을 받았으니 제 사랑을 드릴게요\n",
      "남은 커피의 양은 8개 입니다\n",
      "돈을 받았으니 제 사랑을 드릴게요\n",
      "남은 커피의 양은 7개 입니다\n",
      "돈을 받았으니 제 사랑을 드릴게요\n",
      "남은 커피의 양은 6개 입니다\n",
      "돈을 받았으니 제 사랑을 드릴게요\n",
      "남은 커피의 양은 5개 입니다\n",
      "돈을 받았으니 제 사랑을 드릴게요\n",
      "남은 커피의 양은 4개 입니다\n",
      "돈을 받았으니 제 사랑을 드릴게요\n",
      "남은 커피의 양은 3개 입니다\n",
      "돈을 받았으니 제 사랑을 드릴게요\n",
      "남은 커피의 양은 2개 입니다\n",
      "돈을 받았으니 제 사랑을 드릴게요\n",
      "남은 커피의 양은 1개 입니다\n",
      "돈을 받았으니 제 사랑을 드릴게요\n",
      "남은 커피의 양은 0개 입니다\n",
      "커피가 다 떨어졌습니다. 판매를 그만할게요\n"
     ]
    }
   ],
   "source": [
    "coffee = 10\n",
    "money = 300\n",
    "while money:\n",
    "    print(\"돈을 받았으니 제 사랑을 드릴게요\")\n",
    "    coffee = coffee -1\n",
    "    print(\"남은 커피의 양은 %d개 입니다\" %coffee)\n",
    "    if coffee == 0:\n",
    "        print(\"커피가 다 떨어졌습니다. 판매를 그만할게요\")\n",
    "        break"
   ]
  },
  {
   "cell_type": "code",
   "execution_count": 1,
   "id": "3d8458da",
   "metadata": {},
   "outputs": [
    {
     "name": "stdout",
     "output_type": "stream",
     "text": [
      "돈을 넣어 주세요 : 500\n",
      "거스름돈 200 를 주고 커피를 드릴게요 \n",
      "돈을 넣어 주세요 : 500\n",
      "거스름돈 200 를 주고 커피를 드릴게요 \n",
      "돈을 넣어 주세요 : 12\n",
      "돈을 돌려주고 커피를 주지 않을게요 돈이 부족하거든요\n",
      "남은 커피의 갯수는 3개 입니다.\n",
      "돈을 넣어 주세요 : 500\n",
      "거스름돈 200 를 주고 커피를 드릴게요 \n",
      "돈을 넣어 주세요 : 433\n",
      "거스름돈 133 를 주고 커피를 드릴게요 \n",
      "돈을 넣어 주세요 : 12\n",
      "돈을 돌려주고 커피를 주지 않을게요 돈이 부족하거든요\n",
      "남은 커피의 갯수는 1개 입니다.\n",
      "돈을 넣어 주세요 : 300\n",
      "커피를 드릴게요\n",
      "커피가 다 떨어졌어요\n"
     ]
    }
   ],
   "source": [
    "coffee = 5\n",
    "while True:\n",
    "    money = int(input(\"돈을 넣어 주세요 : \"))\n",
    "    if money == 300:\n",
    "        print(\"커피를 드릴게요\")\n",
    "        coffee = coffee - 1\n",
    "    elif money > 300:\n",
    "        print(\"거스름돈 %d 를 주고 커피를 드릴게요 \" %(money - 300))\n",
    "        coffee = coffee - 1\n",
    "    else:\n",
    "        print(\"돈을 돌려주고 커피를 주지 않을게요 돈이 부족하거든요\")\n",
    "        print(\"남은 커피의 갯수는 %d개 입니다.\" %coffee)\n",
    "    if coffee == 0:\n",
    "        print(\"커피가 다 떨어졌어요\")\n",
    "        break"
   ]
  },
  {
   "cell_type": "code",
   "execution_count": 2,
   "id": "7929cd98",
   "metadata": {},
   "outputs": [
    {
     "name": "stdout",
     "output_type": "stream",
     "text": [
      "1\n",
      "3\n",
      "5\n",
      "7\n",
      "9\n"
     ]
    }
   ],
   "source": [
    "a = 0\n",
    "while a < 10:\n",
    "    a = a + 1\n",
    "    if a % 2 == 0: continue\n",
    "    print(a)"
   ]
  },
  {
   "cell_type": "code",
   "execution_count": 4,
   "id": "933b211b",
   "metadata": {},
   "outputs": [
    {
     "name": "stdout",
     "output_type": "stream",
     "text": [
      "one\n",
      "two\n",
      "three\n"
     ]
    }
   ],
   "source": [
    "#for 문\n",
    "test_list = ['one','two','three']\n",
    "for i in test_list:\n",
    "    print(i)"
   ]
  },
  {
   "cell_type": "code",
   "execution_count": 5,
   "id": "682a53e1",
   "metadata": {},
   "outputs": [
    {
     "name": "stdout",
     "output_type": "stream",
     "text": [
      "3\n",
      "7\n",
      "11\n"
     ]
    }
   ],
   "source": [
    "a = [(1,2),(3,4),(5,6)]\n",
    "for (first, last) in a:\n",
    "    print(first + last)"
   ]
  },
  {
   "cell_type": "code",
   "execution_count": 7,
   "id": "49ba853c",
   "metadata": {},
   "outputs": [
    {
     "name": "stdout",
     "output_type": "stream",
     "text": [
      "1번 학생은 합격입니다\n",
      "2번 학생은 불합격입니다.\n",
      "3번 학생은 합격입니다\n",
      "4번 학생은 불합격입니다.\n",
      "5번 학생은 합격입니다\n"
     ]
    }
   ],
   "source": [
    "marks = [90,25,67,45,80]\n",
    "\n",
    "student = 0\n",
    "for mark in marks:\n",
    "    student = student + 1\n",
    "    if mark >= 60:\n",
    "        print(\"%d번 학생은 합격입니다\" % student)\n",
    "    else:\n",
    "        print(\"%d번 학생은 불합격입니다.\" %student)\n",
    "        "
   ]
  },
  {
   "cell_type": "markdown",
   "id": "900b2bf5",
   "metadata": {},
   "source": []
  },
  {
   "cell_type": "code",
   "execution_count": 8,
   "id": "809cb830",
   "metadata": {},
   "outputs": [
    {
     "name": "stdout",
     "output_type": "stream",
     "text": [
      "1번 학생 축하축하~! 합격이에요~\n",
      "3번 학생 축하축하~! 합격이에요~\n",
      "5번 학생 축하축하~! 합격이에요~\n"
     ]
    }
   ],
   "source": [
    "marks = [90,25,67,45,80]\n",
    "number = 0\n",
    "for mark in marks:\n",
    "    number = number + 1\n",
    "    if mark < 60:\n",
    "        continue\n",
    "    print(\"%d번 학생 축하축하~! 합격이에요~\" % number)"
   ]
  },
  {
   "cell_type": "code",
   "execution_count": 3,
   "id": "55262d03",
   "metadata": {},
   "outputs": [
    {
     "name": "stdout",
     "output_type": "stream",
     "text": [
      "1 학생 축하합니다. 합격!\n",
      "3 학생 축하합니다. 합격!\n",
      "5 학생 축하합니다. 합격!\n"
     ]
    }
   ],
   "source": [
    "marks = [90,25,67,45,80]\n",
    "for number in range(len(marks)):\n",
    "    if marks[number] < 60:\n",
    "        continue\n",
    "    print(\"%d 학생 축하합니다. 합격!\" %(number + 1))"
   ]
  },
  {
   "cell_type": "code",
   "execution_count": 8,
   "id": "efa37918",
   "metadata": {},
   "outputs": [
    {
     "name": "stdout",
     "output_type": "stream",
     "text": [
      "[3, 6, 9, 12]\n"
     ]
    }
   ],
   "source": [
    "a = [1,2,3,4]\n",
    "result = []\n",
    "for num in a:\n",
    "    result.append(num*3)\n",
    "print(result)"
   ]
  },
  {
   "cell_type": "code",
   "execution_count": 9,
   "id": "e2cf4251",
   "metadata": {},
   "outputs": [
    {
     "name": "stdout",
     "output_type": "stream",
     "text": [
      "[3, 6, 9, 12]\n"
     ]
    }
   ],
   "source": [
    "a =[1,2,3,4]\n",
    "result = [num * 3 for num in a]\n",
    "print(result)"
   ]
  },
  {
   "cell_type": "code",
   "execution_count": 10,
   "id": "cf870da8",
   "metadata": {},
   "outputs": [
    {
     "name": "stdout",
     "output_type": "stream",
     "text": [
      "[6, 12]\n"
     ]
    }
   ],
   "source": [
    "result = [num * 3 for num in a if num % 2 == 0]\n",
    "print(result)\n",
    "#표현식 for 항목 in 반복가능객체 if 조건문"
   ]
  },
  {
   "cell_type": "code",
   "execution_count": 14,
   "id": "2fee0ebb",
   "metadata": {},
   "outputs": [
    {
     "name": "stdout",
     "output_type": "stream",
     "text": [
      "166833\n"
     ]
    }
   ],
   "source": [
    "#3장 연습문제\n",
    "a = 0\n",
    "result = 0\n",
    "while a <= 1000:\n",
    "    a = a + 1\n",
    "    if a % 3 != 0:\n",
    "        continue\n",
    "    result += a\n",
    "print(result)"
   ]
  },
  {
   "cell_type": "code",
   "execution_count": 16,
   "id": "208459a6",
   "metadata": {},
   "outputs": [
    {
     "name": "stdout",
     "output_type": "stream",
     "text": [
      "*\n",
      "**\n",
      "***\n",
      "****\n",
      "*****\n"
     ]
    }
   ],
   "source": [
    "i = 0\n",
    "while True:\n",
    "    i = i + 1\n",
    "    print(\"*\"*i)\n",
    "    if i >=5: break"
   ]
  },
  {
   "cell_type": "code",
   "execution_count": 18,
   "id": "2e474167",
   "metadata": {},
   "outputs": [
    {
     "name": "stdout",
     "output_type": "stream",
     "text": [
      "3\n"
     ]
    }
   ],
   "source": [
    "#4장 함수\n",
    "def add(a,b):\n",
    "    return a + b\n",
    "print(add(1,2))\n",
    "#함수의 입력값을 인수,파라미터,매개변수 등으로 표현"
   ]
  },
  {
   "cell_type": "code",
   "execution_count": 20,
   "id": "23cab572",
   "metadata": {},
   "outputs": [
    {
     "name": "stdout",
     "output_type": "stream",
     "text": [
      "hi\n"
     ]
    }
   ],
   "source": [
    "#입력값이 없는 함수\n",
    "def say():\n",
    "    return \"hi\"\n",
    "\n",
    "print(say())"
   ]
  },
  {
   "cell_type": "code",
   "execution_count": 23,
   "id": "474fd6ab",
   "metadata": {},
   "outputs": [
    {
     "name": "stdout",
     "output_type": "stream",
     "text": [
      "3, 4의 합은 7입니다\n",
      "3, 4의 합은 7입니다\n",
      "None\n"
     ]
    }
   ],
   "source": [
    "#리턴값이 없는 함수\n",
    "def add(a,b):\n",
    "    print(\"%d, %d의 합은 %d입니다\" %(a,b,a+b))\n",
    "\n",
    "add(3,4)\n",
    "\n",
    "a = add(3,4)\n",
    "print(a)\n",
    "#return 값이 없기 때문에 리턴값을 a변수에 대입하면 None 이 출력됨"
   ]
  },
  {
   "cell_type": "code",
   "execution_count": 29,
   "id": "6a5202f3",
   "metadata": {},
   "outputs": [
    {
     "name": "stdout",
     "output_type": "stream",
     "text": [
      "55\n"
     ]
    }
   ],
   "source": [
    "#입력값이 몇 개가 될 지 모를때\n",
    "def add_many(*args):\n",
    "    result = 0\n",
    "    for i in args:\n",
    "        result = result + i\n",
    "    return result\n",
    "#매개변수 이름 앞에 *를 붙이면 입력값을 전부 모아서 튜플로 만들어줌\n",
    "result = add_many(1,2,3,4,5,6,7,8,9,10)\n",
    "print(result)"
   ]
  },
  {
   "cell_type": "code",
   "execution_count": 37,
   "id": "dfb7ca90",
   "metadata": {},
   "outputs": [
    {
     "data": {
      "text/plain": [
       "24"
      ]
     },
     "execution_count": 37,
     "metadata": {},
     "output_type": "execute_result"
    }
   ],
   "source": [
    "def add_mul(choice, *args):\n",
    "    if choice == \"add\":\n",
    "        result = 0\n",
    "        for i in args:\n",
    "            result = result + i\n",
    "    elif choice == \"mul\":\n",
    "        result = 1\n",
    "        for i in args:\n",
    "            result = result * i\n",
    "    return result\n",
    "\n",
    "add_mul('add',1,2,3,4)\n",
    "add_mul('mul',1,2,3,4)"
   ]
  },
  {
   "cell_type": "code",
   "execution_count": 1,
   "id": "0d10698a",
   "metadata": {},
   "outputs": [
    {
     "name": "stdout",
     "output_type": "stream",
     "text": [
      "{'a': 1}\n"
     ]
    }
   ],
   "source": [
    "def print_kwargs(**kwargs):\n",
    "    print(kwargs)\n",
    "print_kwargs(a=1)\n",
    "#매개변수 이름 앞에 **을 붙이면 매개변수 kwargs는 딕셔너리가 되고 값은 key=value형태"
   ]
  },
  {
   "cell_type": "code",
   "execution_count": 5,
   "id": "1b2de188",
   "metadata": {},
   "outputs": [
    {
     "name": "stdout",
     "output_type": "stream",
     "text": [
      "저의 별명은 찰스입니다.\n"
     ]
    }
   ],
   "source": [
    "def say_nick(nick):\n",
    "    if nick == \"바보\":\n",
    "        return\n",
    "    print(\"저의 별명은 %s입니다.\" %nick)\n",
    "say_nick(\"바보\")\n",
    "say_nick(\"찰스\")"
   ]
  },
  {
   "cell_type": "code",
   "execution_count": 6,
   "id": "ab566d63",
   "metadata": {},
   "outputs": [],
   "source": [
    "#초기화시키고 싶은 매개변수는 항상 뒤쪽에 놓아야 함"
   ]
  },
  {
   "cell_type": "code",
   "execution_count": 29,
   "id": "c718071d",
   "metadata": {},
   "outputs": [
    {
     "name": "stdout",
     "output_type": "stream",
     "text": [
      "None\n",
      "1\n"
     ]
    }
   ],
   "source": [
    "def test(a):\n",
    "    a += 1\n",
    "\n",
    "print(test(3))\n",
    "print(a)"
   ]
  },
  {
   "cell_type": "code",
   "execution_count": 1,
   "id": "2baa0bcb",
   "metadata": {},
   "outputs": [],
   "source": [
    "#4장 입출력"
   ]
  },
  {
   "cell_type": "code",
   "execution_count": 4,
   "id": "31aa5bc6",
   "metadata": {},
   "outputs": [
    {
     "name": "stdout",
     "output_type": "stream",
     "text": [
      "ㅎㅇㅎㅇ\n"
     ]
    },
    {
     "data": {
      "text/plain": [
       "'ㅎㅇㅎㅇ'"
      ]
     },
     "execution_count": 4,
     "metadata": {},
     "output_type": "execute_result"
    }
   ],
   "source": [
    "a = input()\n",
    "a\n",
    "#imput은 입력되는 것을 문자열로 취급함"
   ]
  },
  {
   "cell_type": "code",
   "execution_count": 7,
   "id": "f03539a9",
   "metadata": {},
   "outputs": [
    {
     "name": "stdout",
     "output_type": "stream",
     "text": [
      "1 2 3 4 5 6 7 8 9 10 "
     ]
    }
   ],
   "source": [
    "#한 줄에 결괏값 출력하기\n",
    "for i in range(1,11):\n",
    "    print(i, end = \" \")"
   ]
  },
  {
   "cell_type": "code",
   "execution_count": 15,
   "id": "a74263a7",
   "metadata": {},
   "outputs": [],
   "source": [
    "#파일 생성하기\n",
    "f = open(\"새파일.txt\", \"w\")\n",
    "f.close()"
   ]
  },
  {
   "cell_type": "code",
   "execution_count": 22,
   "id": "5e38a282",
   "metadata": {},
   "outputs": [],
   "source": [
    "f = open(\"C:/Users/82106/Desktop/jupyter notebook/새파일.txt\",\"w\")\n",
    "for i in range(1,11):\n",
    "    data = \"%d번째 줄입니다. \\n\" % i\n",
    "    f.write(data)"
   ]
  },
  {
   "cell_type": "code",
   "execution_count": 26,
   "id": "c10906d2",
   "metadata": {},
   "outputs": [
    {
     "name": "stdout",
     "output_type": "stream",
     "text": [
      "1번째 줄입니다. \n",
      "\n"
     ]
    }
   ],
   "source": [
    "#readline_test.py\n",
    "f =open(\"C:/Users/82106/Desktop/jupyter notebook/새파일.txt\",\"r\")\n",
    "line = f.readline()\n",
    "print(line)"
   ]
  },
  {
   "cell_type": "code",
   "execution_count": 27,
   "id": "8582a459",
   "metadata": {},
   "outputs": [
    {
     "name": "stdout",
     "output_type": "stream",
     "text": [
      "1번째 줄입니다. \n",
      "\n",
      "2번째 줄입니다. \n",
      "\n",
      "3번째 줄입니다. \n",
      "\n",
      "4번째 줄입니다. \n",
      "\n",
      "5번째 줄입니다. \n",
      "\n",
      "6번째 줄입니다. \n",
      "\n",
      "7번째 줄입니다. \n",
      "\n",
      "8번째 줄입니다. \n",
      "\n",
      "9번째 줄입니다. \n",
      "\n",
      "10번째 줄입니다. \n",
      "\n"
     ]
    }
   ],
   "source": [
    "#readline_all.py\n",
    "f = open(\"C:/Users/82106/Desktop/jupyter notebook/새파일.txt\",\"r\")\n",
    "while True:\n",
    "    line = f.readline()\n",
    "    if not line:\n",
    "        break\n",
    "    print(line)"
   ]
  },
  {
   "cell_type": "code",
   "execution_count": 31,
   "id": "9a3a3b29",
   "metadata": {},
   "outputs": [
    {
     "name": "stdout",
     "output_type": "stream",
     "text": [
      "1번째 줄입니다.\n",
      "2번째 줄입니다.\n",
      "3번째 줄입니다.\n",
      "4번째 줄입니다.\n",
      "5번째 줄입니다.\n",
      "6번째 줄입니다.\n",
      "7번째 줄입니다.\n",
      "8번째 줄입니다.\n",
      "9번째 줄입니다.\n",
      "10번째 줄입니다.\n"
     ]
    }
   ],
   "source": [
    "#strip 함수를 이용하여 줄바꿈을 제거\n",
    "f = open(\"C:/Users/82106/Desktop/jupyter notebook/새파일.txt\",\"r\")\n",
    "lines = f.readlines()\n",
    "for line in lines:\n",
    "    line = line.strip()\n",
    "    print(line)"
   ]
  },
  {
   "cell_type": "code",
   "execution_count": 32,
   "id": "5537c2ff",
   "metadata": {},
   "outputs": [
    {
     "name": "stdout",
     "output_type": "stream",
     "text": [
      "1번째 줄입니다. \n",
      "2번째 줄입니다. \n",
      "3번째 줄입니다. \n",
      "4번째 줄입니다. \n",
      "5번째 줄입니다. \n",
      "6번째 줄입니다. \n",
      "7번째 줄입니다. \n",
      "8번째 줄입니다. \n",
      "9번째 줄입니다. \n",
      "10번째 줄입니다. \n",
      "\n"
     ]
    }
   ],
   "source": [
    "f = open(\"C:/Users/82106/Desktop/jupyter notebook/새파일.txt\",\"r\")\n",
    "data = f.read()\n",
    "print(data)"
   ]
  },
  {
   "cell_type": "code",
   "execution_count": 34,
   "id": "a63fef93",
   "metadata": {},
   "outputs": [],
   "source": [
    "#파일에 새로운 내용 추가하기\n",
    "#adddata.py\n",
    "f = open(\"C:/Users/82106/Desktop/jupyter notebook/새파일.txt\",\"a\") #추가모드 'a'\n",
    "for i in range(11,20):\n",
    "    data = \"%d번째 줄입니다. \\n\" % i\n",
    "    f.write(data)"
   ]
  },
  {
   "cell_type": "code",
   "execution_count": 36,
   "id": "b3524976",
   "metadata": {},
   "outputs": [],
   "source": [
    "#with 문과 함께 사용하기\n",
    "with open(\"C:/Users/82106/Desktop/jupyter notebook/foo.txt\",\"w\") as f:\n",
    "    f.write(\"인생이 짧기에 파이썬이 피료해\")"
   ]
  },
  {
   "cell_type": "code",
   "execution_count": 19,
   "id": "4d2e416d",
   "metadata": {},
   "outputs": [
    {
     "name": "stdout",
     "output_type": "stream",
     "text": [
      "5는 홀수여\n",
      "2는 짝수여\n"
     ]
    }
   ],
   "source": [
    "#4장 연습문제\n",
    "#홀수 짝수 판별\n",
    "def is_odd(a):\n",
    "    if a % 2 == 0:\n",
    "        print(\"%d는 짝수여\" %a)\n",
    "    elif a % 2 != 0:\n",
    "        print(\"%d는 홀수여\" %a)\n",
    "    return\n",
    "\n",
    "is_odd(5)\n",
    "is_odd(2)"
   ]
  },
  {
   "cell_type": "code",
   "execution_count": 20,
   "id": "e4bfa07f",
   "metadata": {},
   "outputs": [
    {
     "data": {
      "text/plain": [
       "3.0"
      ]
     },
     "execution_count": 20,
     "metadata": {},
     "output_type": "execute_result"
    }
   ],
   "source": [
    "#모든 입력값 평균구하기\n",
    "def avg(*a): #*를 사용하여 여러 인자 받을 수 있도록\n",
    "    result = 0\n",
    "    for i in a:\n",
    "        result = i + result\n",
    "    return result / len(a)\n",
    "\n",
    "avg(1,2,3,4,5)"
   ]
  },
  {
   "cell_type": "code",
   "execution_count": 22,
   "id": "03aa754e",
   "metadata": {},
   "outputs": [
    {
     "name": "stdout",
     "output_type": "stream",
     "text": [
      "첫 번 째 숫 자 를 입 력 하 세 요:3\n",
      "두 번 째 숫 자 를 입 력 하 세 요:6\n",
      "두 수 의 합 은 9 입 니 다\n"
     ]
    }
   ],
   "source": [
    "#오류 수정하기\n",
    "input1 = input(\"첫 번 째 숫 자 를 입 력 하 세 요:\")\n",
    "input2 = input(\"두 번 째 숫 자 를 입 력 하 세 요:\")\n",
    "total = int(input1) + int(input2)\n",
    "print(\"두 수 의 합 은 %s 입 니 다\" % total)\n"
   ]
  },
  {
   "cell_type": "code",
   "execution_count": 28,
   "id": "83b5d0b3",
   "metadata": {},
   "outputs": [
    {
     "name": "stdout",
     "output_type": "stream",
     "text": [
      "Life is too short\n"
     ]
    }
   ],
   "source": [
    "#오류 수정하기2\n",
    "f1 = open(\"C:/Users/82106/Desktop/jupyter notebook/test.txt\",\"w\")\n",
    "f1.write(\"Life is too short\")\n",
    "f1.close()\n",
    "f2 = open(\"C:/Users/82106/Desktop/jupyter notebook/test.txt\",\"r\")\n",
    "print(f2.read())\n",
    "f2.close()"
   ]
  },
  {
   "cell_type": "code",
   "execution_count": 29,
   "id": "bc517735",
   "metadata": {},
   "outputs": [],
   "source": [
    "#5장"
   ]
  },
  {
   "cell_type": "code",
   "execution_count": 13,
   "id": "117f2df5",
   "metadata": {},
   "outputs": [
    {
     "name": "stdout",
     "output_type": "stream",
     "text": [
      "4\n"
     ]
    },
    {
     "data": {
      "text/plain": [
       "6"
      ]
     },
     "execution_count": 13,
     "metadata": {},
     "output_type": "execute_result"
    }
   ],
   "source": [
    "class FourCal:\n",
    "    pass\n",
    "\n",
    "a = FourCal()\n",
    "type(a)\n",
    "\n",
    "class FourCal:\n",
    "    def setdata(self, first, second):\n",
    "        self.first = first\n",
    "        self.second = second\n",
    "\n",
    "a = FourCal()\n",
    "a.setdata(4,2)\n",
    "print(a.first)\n",
    "\n",
    "class FourCal:\n",
    "    def setdata(self, first, second):\n",
    "        self.first = first\n",
    "        self.second = second\n",
    "    def add(self):\n",
    "        result = self.first + self.second\n",
    "        return result\n",
    "    def mul(self):\n",
    "        result = self.first * self.second\n",
    "        return result\n",
    "a = FourCal()\n",
    "a.setdata(4,2)\n",
    "a.add()"
   ]
  },
  {
   "cell_type": "code",
   "execution_count": 14,
   "id": "d47b3b44",
   "metadata": {},
   "outputs": [
    {
     "ename": "AttributeError",
     "evalue": "'FourCal' object has no attribute 'first'",
     "output_type": "error",
     "traceback": [
      "\u001b[1;31m---------------------------------------------------------------------------\u001b[0m",
      "\u001b[1;31mAttributeError\u001b[0m                            Traceback (most recent call last)",
      "Input \u001b[1;32mIn [14]\u001b[0m, in \u001b[0;36m<cell line: 2>\u001b[1;34m()\u001b[0m\n\u001b[0;32m      1\u001b[0m a \u001b[38;5;241m=\u001b[39m FourCal()\n\u001b[1;32m----> 2\u001b[0m \u001b[43ma\u001b[49m\u001b[38;5;241;43m.\u001b[39;49m\u001b[43madd\u001b[49m\u001b[43m(\u001b[49m\u001b[43m)\u001b[49m\n",
      "Input \u001b[1;32mIn [13]\u001b[0m, in \u001b[0;36mFourCal.add\u001b[1;34m(self)\u001b[0m\n\u001b[0;32m     20\u001b[0m \u001b[38;5;28;01mdef\u001b[39;00m \u001b[38;5;21madd\u001b[39m(\u001b[38;5;28mself\u001b[39m):\n\u001b[1;32m---> 21\u001b[0m     result \u001b[38;5;241m=\u001b[39m \u001b[38;5;28;43mself\u001b[39;49m\u001b[38;5;241;43m.\u001b[39;49m\u001b[43mfirst\u001b[49m \u001b[38;5;241m+\u001b[39m \u001b[38;5;28mself\u001b[39m\u001b[38;5;241m.\u001b[39msecond\n\u001b[0;32m     22\u001b[0m     \u001b[38;5;28;01mreturn\u001b[39;00m result\n",
      "\u001b[1;31mAttributeError\u001b[0m: 'FourCal' object has no attribute 'first'"
     ]
    }
   ],
   "source": [
    "a = FourCal()\n",
    "a.add()"
   ]
  },
  {
   "cell_type": "code",
   "execution_count": null,
   "id": "629e3132",
   "metadata": {},
   "outputs": [],
   "source": []
  }
 ],
 "metadata": {
  "kernelspec": {
   "display_name": "Python 3 (ipykernel)",
   "language": "python",
   "name": "python3"
  },
  "language_info": {
   "codemirror_mode": {
    "name": "ipython",
    "version": 3
   },
   "file_extension": ".py",
   "mimetype": "text/x-python",
   "name": "python",
   "nbconvert_exporter": "python",
   "pygments_lexer": "ipython3",
   "version": "3.9.12"
  }
 },
 "nbformat": 4,
 "nbformat_minor": 5
}
